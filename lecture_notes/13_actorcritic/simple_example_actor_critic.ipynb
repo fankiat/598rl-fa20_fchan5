{
 "cells": [
  {
   "cell_type": "code",
   "execution_count": 1,
   "metadata": {},
   "outputs": [],
   "source": [
    "import numpy as np\n",
    "import torch\n",
    "import secrets\n",
    "import random\n",
    "import importlib\n",
    "import itertools\n",
    "import matplotlib.pyplot as plt\n",
    "%matplotlib inline"
   ]
  },
  {
   "cell_type": "markdown",
   "metadata": {},
   "source": [
    "Import the simple_example module, reloading it so we are sure to get any changes."
   ]
  },
  {
   "cell_type": "code",
   "execution_count": 2,
   "metadata": {},
   "outputs": [
    {
     "data": {
      "text/plain": [
       "<module 'simple_example' from '/Users/timothybretl/Documents/courses/598RL/02_Fall2020/598rl-fa20/lecture_notes/13_actorcritic/simple_example.py'>"
      ]
     },
     "execution_count": 2,
     "metadata": {},
     "output_type": "execute_result"
    }
   ],
   "source": [
    "import simple_example\n",
    "importlib.reload(simple_example)"
   ]
  },
  {
   "cell_type": "markdown",
   "metadata": {},
   "source": [
    "Seed all possible random number generators."
   ]
  },
  {
   "cell_type": "code",
   "execution_count": 3,
   "metadata": {},
   "outputs": [
    {
     "data": {
      "text/plain": [
       "<torch._C.Generator at 0x7fd79d691a90>"
      ]
     },
     "execution_count": 3,
     "metadata": {},
     "output_type": "execute_result"
    }
   ],
   "source": [
    "# Get 32 random bits to use as a common seed\n",
    "seed = secrets.randbits(32)\n",
    "\n",
    "# Seed the default random number generator\n",
    "random.seed(seed)\n",
    "\n",
    "# Seed the classical numpy random number generator\n",
    "np.random.seed(seed)\n",
    "\n",
    "# Create an instance of and seed the modern numpy random number generator\n",
    "rg = np.random.default_rng(seed)\n",
    "\n",
    "# Seed the torch random number generator\n",
    "torch.manual_seed(seed)"
   ]
  },
  {
   "cell_type": "markdown",
   "metadata": {},
   "source": [
    "Create an instance of the simple example environment"
   ]
  },
  {
   "cell_type": "code",
   "execution_count": 4,
   "metadata": {},
   "outputs": [],
   "source": [
    "env = simple_example.SimpleExample(rg=rg)"
   ]
  },
  {
   "cell_type": "markdown",
   "metadata": {},
   "source": [
    "Unit test to check for valid model of initial probability and transition probability"
   ]
  },
  {
   "cell_type": "code",
   "execution_count": 5,
   "metadata": {},
   "outputs": [],
   "source": [
    "for s in [0, 1]:\n",
    "    for a in [0, 1]:\n",
    "        p = 0\n",
    "        for s_prime in [0, 1]:\n",
    "            for done in [True, False]:\n",
    "                p += env.p(s_prime, s, a, done=done)\n",
    "        if not np.isclose(p, 1):\n",
    "            raise Exception(f'p = {p} should be 1 for (s, a) = ({s}, {a})')"
   ]
  },
  {
   "cell_type": "markdown",
   "metadata": {},
   "source": [
    "What we need to compute the exact payoff and the exact gradient of payoff with respect to $\\theta$."
   ]
  },
  {
   "cell_type": "code",
   "execution_count": 6,
   "metadata": {},
   "outputs": [],
   "source": [
    "def action_probability(a, s, theta):\n",
    "    return np.exp(theta[s, a]) / np.exp(theta[s]).sum()\n",
    "\n",
    "def action_probabilities(s, theta):\n",
    "    return np.exp(theta[s]) / np.exp(theta[s]).sum()\n",
    "\n",
    "def trajectory_probability(tau, theta):\n",
    "    # tau = [s0, a0, s1, a1, ..., aT-1, sT]\n",
    "    T = len(tau) // 2\n",
    "    p = env.p0(tau[0])\n",
    "    for t in range(T):\n",
    "        s = tau[2 * t]\n",
    "        a = tau[2 * t + 1]\n",
    "        s_prime = tau[2 * t + 2]\n",
    "        p *= action_probability(a, s, theta)\n",
    "        p *= env.p(s_prime, s, a, done=(t == (T - 1)))\n",
    "    return p\n",
    "\n",
    "def total_reward(tau):\n",
    "    # tau = [s0, a0, s1, a1, ..., aT-1, sT]\n",
    "    T = len(tau) // 2\n",
    "    r = 0\n",
    "    for step in range(T):\n",
    "        s = tau[2 * step]\n",
    "        a = tau[2 * step + 1]\n",
    "        s_prime = tau[2 * step + 2]\n",
    "        r += env.r(s, a, s_prime)\n",
    "    return r\n",
    "\n",
    "def payoff(theta, max_num_steps):\n",
    "    J = 0\n",
    "    for num_steps in range(1, max_num_steps):\n",
    "        for tau in itertools.product(*[[0, 1] for step in range(2 * num_steps + 1)]):\n",
    "            J += total_reward(tau) * trajectory_probability(tau, theta)\n",
    "    return J\n",
    "\n",
    "def action_log_probability(a, s, theta):\n",
    "    return theta[s, a] - np.log(np.exp(theta[s]).sum())\n",
    "\n",
    "def action_log_probability_gradient(a, s, theta):\n",
    "    grad = np.zeros_like(theta)\n",
    "    grad[s, a] += 1\n",
    "    grad[s] -= action_probabilities(s, theta)\n",
    "    return grad\n",
    "\n",
    "def trajectory_log_probability_gradient(tau, theta):\n",
    "    # tau = [s0, a0, s1, a1, ..., aT-1, sT]\n",
    "    T = len(tau) // 2\n",
    "    grad = np.zeros_like(theta)\n",
    "    for step in range(T):\n",
    "        s = tau[2 * step]\n",
    "        a = tau[2 * step + 1]\n",
    "        s_prime = tau[2 * step + 2]\n",
    "        grad += action_log_probability_gradient(a, s, theta)\n",
    "    return grad\n",
    "\n",
    "def payoff_gradient(theta, max_num_steps):\n",
    "    grad = 0\n",
    "    for num_steps in range(1, max_num_steps):\n",
    "        for tau in itertools.product(*[[0, 1] for step in range(2 * num_steps + 1)]):\n",
    "            grad += trajectory_probability(tau, theta) * trajectory_log_probability_gradient(tau, theta) * total_reward(tau)\n",
    "    return grad"
   ]
  },
  {
   "cell_type": "markdown",
   "metadata": {},
   "source": [
    "Unit test to check for valid model of trajectory probability"
   ]
  },
  {
   "cell_type": "code",
   "execution_count": 7,
   "metadata": {},
   "outputs": [
    {
     "name": "stdout",
     "output_type": "stream",
     "text": [
      "total probability when truncating at 6 steps:  1.000\n"
     ]
    }
   ],
   "source": [
    "# Uniform random policy\n",
    "theta = np.zeros((env.num_states, env.num_actions))\n",
    "\n",
    "# Number of steps at which to truncate\n",
    "max_num_steps = 6\n",
    "\n",
    "# Sum the probability of all trajectories with at most that number of steps\n",
    "p = 0\n",
    "for num_steps in range(1, max_num_steps + 1):\n",
    "    for tau in itertools.product(*[[0, 1] for step in range(2 * num_steps + 1)]):\n",
    "        p_traj = trajectory_probability(tau, theta)\n",
    "        p += p_traj\n",
    "        \n",
    "# Show results\n",
    "print(f'total probability when truncating at {max_num_steps} steps: {p:6.3f}')"
   ]
  },
  {
   "cell_type": "markdown",
   "metadata": {},
   "source": [
    "Unit test to check for convergence of payoff with truncation for uniform random policy"
   ]
  },
  {
   "cell_type": "code",
   "execution_count": 8,
   "metadata": {},
   "outputs": [
    {
     "name": "stdout",
     "output_type": "stream",
     "text": [
      "payoff after truncating at 2 steps : 3.3600000000000003\n",
      "payoff after truncating at 3 steps : 4.704000000000001\n",
      "payoff after truncating at 4 steps : 5.107200000000002\n",
      "payoff after truncating at 5 steps : 5.214720000000004\n",
      "payoff after truncating at 6 steps : 5.241600000000025\n",
      "payoff after truncating at 7 steps : 5.2480512000001145\n",
      "payoff after truncating at 8 steps : 5.249556479999967\n"
     ]
    }
   ],
   "source": [
    "for n in range(2, max_num_steps + 3):\n",
    "    print(f'payoff after truncating at {n} steps : {payoff(theta, n)}')"
   ]
  },
  {
   "cell_type": "markdown",
   "metadata": {},
   "source": [
    "The optimal policy and the optimal payoff.\n",
    "\n",
    "Note that we can only describe the optimal policy exactly if we allow the use of $\\infty$. If we restrict $\\theta$ to real values, then we will only ever approach the optimal policy (as closely as we like). Also note that there are many different choices of $\\theta$ that describe (or approach) the optimal policy."
   ]
  },
  {
   "cell_type": "code",
   "execution_count": 9,
   "metadata": {},
   "outputs": [
    {
     "name": "stdout",
     "output_type": "stream",
     "text": [
      "optimal policy:\n",
      "\n",
      " theta = [[0.0, -inf], [-inf, 0.0]]\n",
      "\n",
      " p(a_t = 0 | s_t = 0; theta) = 1.0\n",
      " p(a_t = 1 | s_t = 0; theta) = 0.0\n",
      " p(a_t = 0 | s_t = 1; theta) = 0.0\n",
      " p(a_t = 1 | s_t = 1; theta) = 1.0\n",
      "\n",
      " J(theta) = 11.81\n"
     ]
    }
   ],
   "source": [
    "theta_opt = np.array([[0., -np.inf], [-np.inf, 0.]])\n",
    "print(f'optimal policy:\\n\\n theta = {theta_opt.tolist()}')\n",
    "print('')\n",
    "for s in [0, 1]:\n",
    "    for a in [0, 1]:\n",
    "        print(f' p(a_t = {a} | s_t = {s}; theta) = {action_probability(a, s, theta_opt)}')\n",
    "print('')\n",
    "print(f' J(theta) = {payoff(theta_opt, max_num_steps):.2f}')"
   ]
  },
  {
   "cell_type": "markdown",
   "metadata": {},
   "source": [
    "Unit test to check for convergence of optimal payoff with truncation"
   ]
  },
  {
   "cell_type": "code",
   "execution_count": 10,
   "metadata": {},
   "outputs": [
    {
     "name": "stdout",
     "output_type": "stream",
     "text": [
      "payoff after truncating at 2 steps : 6.4\n",
      "payoff after truncating at 3 steps : 10.112\n",
      "payoff after truncating at 4 steps : 11.363839999999998\n",
      "payoff after truncating at 5 steps : 11.7165568\n",
      "payoff after truncating at 6 steps : 11.807579136\n",
      "payoff after truncating at 7 steps : 11.829879582719997\n",
      "payoff after truncating at 8 steps : 11.835158871654397\n"
     ]
    }
   ],
   "source": [
    "for n in range(2, max_num_steps + 3):\n",
    "    print(f'payoff after truncating at {n} steps : {payoff(theta_opt, n)}')"
   ]
  },
  {
   "cell_type": "markdown",
   "metadata": {},
   "source": [
    "Exact payoff gradient for uniform random policy"
   ]
  },
  {
   "cell_type": "code",
   "execution_count": 11,
   "metadata": {},
   "outputs": [
    {
     "name": "stdout",
     "output_type": "stream",
     "text": [
      "theta = [[0.0, 0.0], [0.0, 0.0]]\n",
      "grad payoff = [[2.712550022399992, -2.712550022399992], [-0.09175002239999952, 0.09175002239999952]]\n"
     ]
    }
   ],
   "source": [
    "print(f'theta = {theta.tolist()}')\n",
    "print(f'grad payoff = {payoff_gradient(theta, max_num_steps).tolist()}')"
   ]
  },
  {
   "cell_type": "markdown",
   "metadata": {},
   "source": [
    "Unit test to check for convergence of payoff gradient for uniform random policy"
   ]
  },
  {
   "cell_type": "code",
   "execution_count": 12,
   "metadata": {},
   "outputs": [
    {
     "name": "stdout",
     "output_type": "stream",
     "text": [
      "payoff gradient for uniform random policy after truncating at different numbers of steps:\n",
      " 2 : [[ 1.600, -1.600], [ 0.080, -0.080]]\n",
      " 3 : [[ 2.377, -2.377], [-0.025,  0.025]]\n",
      " 4 : [[ 2.626, -2.626], [-0.073,  0.073]]\n",
      " 5 : [[ 2.695, -2.695], [-0.088,  0.088]]\n",
      " 6 : [[ 2.713, -2.713], [-0.092,  0.092]]\n",
      " 7 : [[ 2.717, -2.717], [-0.093,  0.093]]\n",
      " 8 : [[ 2.718, -2.718], [-0.093,  0.093]]\n"
     ]
    }
   ],
   "source": [
    "print('payoff gradient for uniform random policy after truncating at different numbers of steps:')\n",
    "for n in range(2, max_num_steps + 3):\n",
    "    grad = payoff_gradient(theta, n).tolist()\n",
    "    grad_string = ', '.join(f'[{s}]' for s in [', '.join([f'{el:6.3f}' for el in row]) for row in grad])\n",
    "    print(f' {n} : [{grad_string}]')"
   ]
  },
  {
   "cell_type": "markdown",
   "metadata": {},
   "source": [
    "Unit test to check for convergence of payoff gradient for optimal policy to zero"
   ]
  },
  {
   "cell_type": "code",
   "execution_count": 13,
   "metadata": {},
   "outputs": [
    {
     "name": "stdout",
     "output_type": "stream",
     "text": [
      "payoff gradient for optimal policy after truncating at different numbers of steps:\n",
      " 2 : [[ 0.000,  0.000], [ 0.000,  0.000]]\n",
      " 3 : [[ 0.000,  0.000], [ 0.000,  0.000]]\n",
      " 4 : [[ 0.000,  0.000], [ 0.000,  0.000]]\n",
      " 5 : [[ 0.000,  0.000], [ 0.000,  0.000]]\n",
      " 6 : [[ 0.000,  0.000], [ 0.000,  0.000]]\n",
      " 7 : [[ 0.000,  0.000], [ 0.000,  0.000]]\n",
      " 8 : [[ 0.000,  0.000], [ 0.000,  0.000]]\n"
     ]
    }
   ],
   "source": [
    "print('payoff gradient for optimal policy after truncating at different numbers of steps:')\n",
    "for n in range(2, max_num_steps + 3):\n",
    "    grad = payoff_gradient(theta_opt, n).tolist()\n",
    "    grad_string = ', '.join(f'[{s}]' for s in [', '.join([f'{el:6.3f}' for el in row]) for row in grad])\n",
    "    print(f' {n} : [{grad_string}]')"
   ]
  },
  {
   "cell_type": "markdown",
   "metadata": {},
   "source": [
    "Define actor and critic"
   ]
  },
  {
   "cell_type": "code",
   "execution_count": 14,
   "metadata": {},
   "outputs": [],
   "source": [
    "class Actor(torch.nn.Module):\n",
    "    def __init__(self, theta):\n",
    "        super(Actor, self).__init__()\n",
    "        self.theta = torch.nn.Parameter(torch.tensor(theta))\n",
    "\n",
    "    def forward(self, s):\n",
    "        return self.theta[s]\n",
    "\n",
    "class Critic(torch.nn.Module):\n",
    "    def __init__(self, V):\n",
    "        super(Critic, self).__init__()\n",
    "        self.V = torch.nn.Parameter(torch.tensor(V))\n",
    "\n",
    "    def forward(self, s):\n",
    "        return self.V[s]"
   ]
  },
  {
   "cell_type": "markdown",
   "metadata": {},
   "source": [
    "Utility functions"
   ]
  },
  {
   "cell_type": "code",
   "execution_count": 15,
   "metadata": {},
   "outputs": [],
   "source": [
    "def policy_as_string(actor):\n",
    "    theta = actor.theta.detach().numpy()\n",
    "    theta_str = ', '.join(f'[{s}]' for s in [', '.join([f'{el:6.3f}' for el in row]) for row in theta])\n",
    "    output = f'policy for theta = [{theta_str}]\\n'\n",
    "    for s in range(env.num_states):\n",
    "        for a in range(env.num_actions):\n",
    "            output += f' p(a_t = {a} | s_t = {s}; theta) = {action_probability(a, s, theta):6.3f}\\n'\n",
    "    return output\n",
    "        \n",
    "def plot_learning_curve(data):\n",
    "    fig, ax = plt.subplots(1, 1, figsize=(10, 5))\n",
    "    ax.plot(data['step'], data['reward'], linewidth=2, label='total undiscounted reward')\n",
    "    ax.grid()\n",
    "    ax.set_ylim(0, 15)\n",
    "    ax.legend(fontsize=14)\n",
    "    ax.tick_params(labelsize=14)\n",
    "    ax.set_xlabel('simulation steps', fontsize=20)\n",
    "    plt.tight_layout()"
   ]
  },
  {
   "cell_type": "markdown",
   "metadata": {},
   "source": [
    "Unit test to compare exact and estimated payoff"
   ]
  },
  {
   "cell_type": "code",
   "execution_count": 16,
   "metadata": {},
   "outputs": [
    {
     "name": "stdout",
     "output_type": "stream",
     "text": [
      "payoff (exact) :  5.242 (truncated at 6 steps)\n",
      "payoff (est)   :  5.297 (from 100000 episodes)\n"
     ]
    }
   ],
   "source": [
    "max_num_steps_per_ep = 10\n",
    "num_eps_per_iter = 100_000\n",
    "\n",
    "actor = Actor(np.zeros((env.num_states, env.num_actions), dtype=np.float64))\n",
    "\n",
    "def get_batch(num_eps, num_steps, actor):\n",
    "    with torch.no_grad():\n",
    "        batch = {'s': [], 'a': [], 'r': [], 'w': []}\n",
    "        for ep in range(num_eps):\n",
    "            traj = {'s': [], 'a': [], 'r': []}\n",
    "            done = False\n",
    "            s = env.reset()\n",
    "            for step in range(num_steps):\n",
    "                logits = actor(s)\n",
    "                dist = torch.distributions.categorical.Categorical(logits=logits)\n",
    "                a = dist.sample().item()\n",
    "                s_prime, r, done = env.step(a)\n",
    "                traj['s'].append(s)\n",
    "                traj['a'].append(a)\n",
    "                traj['r'].append(r)\n",
    "                s = s_prime\n",
    "                if done:\n",
    "                    break\n",
    "            batch['s'].extend(traj['s'])\n",
    "            batch['a'].extend(traj['a'])\n",
    "            batch['r'].extend(traj['r'])\n",
    "            batch['w'].extend([np.sum(traj['r'])] * len(traj['r']))\n",
    "        batch['num_steps'] = len(batch['r'])\n",
    "        batch['s'] = torch.tensor(batch['s'], requires_grad=False, dtype=torch.long)\n",
    "        batch['a'] = torch.tensor(batch['a'], requires_grad=False, dtype=torch.long)\n",
    "        batch['r'] = torch.tensor(batch['r'], requires_grad=False, dtype=torch.double)\n",
    "        batch['w'] = torch.tensor(batch['w'], requires_grad=False, dtype=torch.double)\n",
    "    return batch\n",
    "    \n",
    "batch = get_batch(num_eps_per_iter, max_num_steps_per_ep, actor)\n",
    "J_estimate = batch['r'].mean() * (batch['r'].shape[0] / num_eps_per_iter)\n",
    "J_exact = payoff(actor.theta.detach().numpy(), max_num_steps)\n",
    "\n",
    "print(f'payoff (exact) : {J_exact:6.3f} (truncated at {max_num_steps} steps)')\n",
    "print(f'payoff (est)   : {J_estimate:6.3f} (from {num_eps_per_iter} episodes)')"
   ]
  },
  {
   "cell_type": "markdown",
   "metadata": {},
   "source": [
    "Unit test to compare exact and estimated payoff gradient"
   ]
  },
  {
   "cell_type": "code",
   "execution_count": 17,
   "metadata": {},
   "outputs": [
    {
     "name": "stdout",
     "output_type": "stream",
     "text": [
      "grad payoff (exact) : [[ 2.713, -2.713], [-0.092,  0.092]] (truncated at 6 steps)\n",
      "grad payoff (est)   : [[ 2.695, -2.695], [-0.093,  0.093]] (from 100000 episodes)\n"
     ]
    }
   ],
   "source": [
    "max_num_steps_per_ep = 10\n",
    "num_eps_per_iter = 100_000\n",
    "alpha = 0.1\n",
    "\n",
    "actor = Actor(np.zeros((env.num_states, env.num_actions), dtype=np.float64))\n",
    "optimizer = torch.optim.SGD(actor.parameters(), lr=alpha)\n",
    "\n",
    "def get_batch(num_eps, num_steps, actor):\n",
    "    with torch.no_grad():\n",
    "        batch = {'s': [], 'a': [], 'r': [], 'w': []}\n",
    "        for ep in range(num_eps):\n",
    "            traj = {'s': [], 'a': [], 'r': []}\n",
    "            done = False\n",
    "            s = env.reset()\n",
    "            for step in range(num_steps):\n",
    "                logits = actor(s)\n",
    "                dist = torch.distributions.categorical.Categorical(logits=logits)\n",
    "                a = dist.sample().item()\n",
    "                s_prime, r, done = env.step(a)\n",
    "                traj['s'].append(s)\n",
    "                traj['a'].append(a)\n",
    "                traj['r'].append(r)\n",
    "                s = s_prime\n",
    "                if done:\n",
    "                    break\n",
    "            batch['s'].extend(traj['s'])\n",
    "            batch['a'].extend(traj['a'])\n",
    "            batch['r'].extend(traj['r'])\n",
    "            batch['w'].extend([np.sum(traj['r'])] * len(traj['r']))\n",
    "        batch['num_steps'] = len(batch['r'])\n",
    "        batch['s'] = torch.tensor(batch['s'], requires_grad=False, dtype=torch.long)\n",
    "        batch['a'] = torch.tensor(batch['a'], requires_grad=False, dtype=torch.long)\n",
    "        batch['r'] = torch.tensor(batch['r'], requires_grad=False, dtype=torch.double)\n",
    "        batch['w'] = torch.tensor(batch['w'], requires_grad=False, dtype=torch.double)\n",
    "    return batch\n",
    "    \n",
    "batch = get_batch(num_eps_per_iter, max_num_steps_per_ep, actor)\n",
    "\n",
    "# When we estimate the gradient with autodifferentiation, we take the average over\n",
    "# steps instead of over trajectories. Here, we compute the multiplier that recovers\n",
    "# the average over trajectories, so we can compare the gradient estimate with the\n",
    "# exact gradient.\n",
    "with torch.no_grad():\n",
    "    N = batch['r'].shape[0] / num_eps_per_iter\n",
    "\n",
    "optimizer.zero_grad()\n",
    "logits = actor(batch['s'])\n",
    "dist = torch.distributions.categorical.Categorical(logits=logits)\n",
    "loss = - (N * dist.log_prob(batch['a']) * batch['w']).mean()\n",
    "loss.backward()\n",
    "\n",
    "grad = payoff_gradient(actor.theta.detach().numpy(), max_num_steps)\n",
    "grad_string = ', '.join(f'[{s}]' for s in [', '.join([f'{el:6.3f}' for el in row]) for row in grad])\n",
    "print(f'grad payoff (exact) : [{grad_string}] (truncated at {max_num_steps} steps)')\n",
    "\n",
    "grad = -actor.theta.grad.detach().numpy()\n",
    "grad_string = ', '.join(f'[{s}]' for s in [', '.join([f'{el:6.3f}' for el in row]) for row in grad])\n",
    "print(f'grad payoff (est)   : [{grad_string}] (from {num_eps_per_iter} episodes)')    "
   ]
  },
  {
   "cell_type": "markdown",
   "metadata": {},
   "source": [
    "Standard REINFORCE with actor"
   ]
  },
  {
   "cell_type": "code",
   "execution_count": 18,
   "metadata": {},
   "outputs": [
    {
     "name": "stdout",
     "output_type": "stream",
     "text": [
      "policy for theta = [[ 2.587, -2.587], [-1.408,  1.408]]\n",
      " p(a_t = 0 | s_t = 0; theta) =  0.994\n",
      " p(a_t = 1 | s_t = 0; theta) =  0.006\n",
      " p(a_t = 0 | s_t = 1; theta) =  0.056\n",
      " p(a_t = 1 | s_t = 1; theta) =  0.944\n",
      "\n"
     ]
    },
    {
     "data": {
      "image/png": "[encoded data removed]",
      "text/plain": [
       "<Figure size 720x360 with 1 Axes>"
      ]
     },
     "metadata": {
      "needs_background": "light"
     },
     "output_type": "display_data"
    }
   ],
   "source": [
    "max_num_steps_per_ep = 10\n",
    "num_eps_per_iter = 50\n",
    "num_iters = 100\n",
    "alpha = 0.1\n",
    "\n",
    "actor = Actor(np.zeros((env.num_states, env.num_actions), dtype=np.float64))\n",
    "optimizer_actor = torch.optim.SGD(actor.parameters(), lr=alpha)\n",
    "\n",
    "def get_batch(num_eps, num_steps, actor):\n",
    "    with torch.no_grad():\n",
    "        batch = {'s': [], 'a': [], 'r': [], 'w': []}\n",
    "        for ep in range(num_eps):\n",
    "            traj = {'s': [], 'a': [], 'r': []}\n",
    "            done = False\n",
    "            s = env.reset()\n",
    "            for step in range(num_steps):\n",
    "                logits = actor(s)\n",
    "                dist = torch.distributions.categorical.Categorical(logits=logits)\n",
    "                a = dist.sample().item()\n",
    "                s_prime, r, done = env.step(a)\n",
    "                traj['s'].append(s)\n",
    "                traj['a'].append(a)\n",
    "                traj['r'].append(r)\n",
    "                s = s_prime\n",
    "                if done:\n",
    "                    break\n",
    "            batch['s'].extend(traj['s'])\n",
    "            batch['a'].extend(traj['a'])\n",
    "            batch['r'].extend(traj['r'])\n",
    "            batch['w'].extend([np.sum(traj['r'])] * len(traj['r']))\n",
    "        batch['num_steps'] = len(batch['r'])\n",
    "        batch['s'] = torch.tensor(batch['s'], requires_grad=False, dtype=torch.long)\n",
    "        batch['a'] = torch.tensor(batch['a'], requires_grad=False, dtype=torch.long)\n",
    "        batch['r'] = torch.tensor(batch['r'], requires_grad=False, dtype=torch.double)\n",
    "        batch['w'] = torch.tensor(batch['w'], requires_grad=False, dtype=torch.double)\n",
    "    return batch\n",
    "\n",
    "step = 0\n",
    "data = {'step': [], 'reward': []}\n",
    "for iter in range(num_iters):\n",
    "    \n",
    "    batch = get_batch(num_eps_per_iter, max_num_steps_per_ep, actor)\n",
    "    \n",
    "    with torch.no_grad():\n",
    "        N = batch['r'].shape[0] / num_eps_per_iter\n",
    "    \n",
    "    optimizer_actor.zero_grad()\n",
    "    logits = actor(batch['s'])\n",
    "    dist = torch.distributions.categorical.Categorical(logits=logits)\n",
    "    loss = - (N * dist.log_prob(batch['a']) * batch['w']).mean()\n",
    "    loss.backward()\n",
    "    optimizer_actor.step()\n",
    "    \n",
    "    step += batch['r'].shape[0]\n",
    "    data['step'].append(step)\n",
    "    data['reward'].append(batch['r'].mean() * N)\n",
    "    \n",
    "print(policy_as_string(actor))\n",
    "plot_learning_curve(data)"
   ]
  },
  {
   "cell_type": "markdown",
   "metadata": {},
   "source": [
    "Value function estimation with critic"
   ]
  },
  {
   "cell_type": "code",
   "execution_count": 19,
   "metadata": {},
   "outputs": [
    {
     "name": "stdout",
     "output_type": "stream",
     "text": [
      "  step : avg loss : V\n",
      "    65 :   218.34 : [16.280, 1.392]\n",
      "   121 :    96.20 : [17.378, 1.921]\n",
      "   182 :   119.33 : [18.061, 2.656]\n",
      "   244 :   108.53 : [18.373, 3.276]\n",
      "   300 :    37.24 : [19.517, 1.880]\n",
      "   364 :   287.60 : [20.605, 4.571]\n",
      "   426 :    75.60 : [20.582, 4.518]\n",
      "   483 :    61.12 : [19.312, 3.386]\n",
      "   544 :   109.28 : [19.797, 4.134]\n",
      "   607 :   105.49 : [19.940, 4.383]\n",
      "\n",
      "V (est) : [19.940, 4.383]\n",
      "payoff (exact) : 11.667 (truncated at 6 steps)\n",
      "payoff (est)   : 12.161 (from V estimate after 607 steps)\n"
     ]
    }
   ],
   "source": [
    "max_num_steps_per_ep = 10\n",
    "num_eps_per_iter = 50\n",
    "num_iters = 10\n",
    "alpha = 0.1\n",
    "\n",
    "critic = Critic(np.zeros(env.num_states, dtype=np.float64))\n",
    "optimizer_critic = torch.optim.SGD(critic.parameters(), lr=alpha)\n",
    "\n",
    "def get_batch(num_eps, num_steps, actor):\n",
    "    with torch.no_grad():\n",
    "        batch = {'s': [], 'V_target': []}\n",
    "        for ep in range(num_eps):\n",
    "            traj = {'s': [], 'a': [], 'r': []}\n",
    "            done = False\n",
    "            s = env.reset()\n",
    "            for step in range(num_steps):\n",
    "                logits = actor(s)\n",
    "                dist = torch.distributions.categorical.Categorical(logits=logits)\n",
    "                a = dist.sample().item()\n",
    "                s_prime, r, done = env.step(a)\n",
    "                traj['s'].append(s)\n",
    "                traj['a'].append(a)\n",
    "                traj['r'].append(r)\n",
    "                s = s_prime\n",
    "                if done:\n",
    "                    break\n",
    "            batch['s'].extend(traj['s'])\n",
    "            # Target for value function is reward-to-go\n",
    "            batch['V_target'].extend(np.flipud(np.flipud(traj['r']).cumsum()))\n",
    "        batch['s'] = torch.tensor(batch['s'], requires_grad=False, dtype=torch.long)\n",
    "        batch['V_target'] = torch.tensor(batch['V_target'], requires_grad=False, dtype=torch.double)\n",
    "    return batch\n",
    "\n",
    "num_epochs_per_iter = 10\n",
    "step = 0\n",
    "print('  step : avg loss : V')\n",
    "for iter in range(num_iters):\n",
    "    batch = get_batch(num_eps_per_iter, max_num_steps_per_ep, actor)\n",
    "    losses = []\n",
    "    for epoch in range(num_epochs_per_iter):\n",
    "        optimizer_critic.zero_grad()\n",
    "        V = critic(batch['s'])\n",
    "        loss = ((V - batch['V_target'])**2).mean() # <--- or... torch.nn.MSELoss()(V, batch['V_target'])\n",
    "        with torch.no_grad():\n",
    "            losses.append(loss.item())\n",
    "        loss.backward()\n",
    "        optimizer_critic.step()\n",
    "    \n",
    "    step += batch['V_target'].shape[0]\n",
    "    print(f' {step:5d} : {np.mean(losses):8.2f} : [' + ','.join([f'{v:6.3f}' for v in critic.V.detach().numpy()]) + ']')\n",
    "\n",
    "V = critic.V.detach().numpy()\n",
    "print('')\n",
    "print(f'V (est) : [' + ','.join([f'{v:6.3f}' for v in V]) + ']')\n",
    "\n",
    "J_estimate = np.mean(V) # <-- assumes initial state is sampled uniformly at random\n",
    "J_exact = payoff(actor.theta.detach().numpy(), max_num_steps)\n",
    "\n",
    "print(f'payoff (exact) : {J_exact:6.3f} (truncated at {max_num_steps} steps)')\n",
    "print(f'payoff (est)   : {J_estimate:6.3f} (from V estimate after {step} steps)')"
   ]
  },
  {
   "cell_type": "markdown",
   "metadata": {},
   "source": [
    "Vanilla policy gradient with actor/critic and advantage estimation"
   ]
  },
  {
   "cell_type": "code",
   "execution_count": 20,
   "metadata": {},
   "outputs": [
    {
     "name": "stdout",
     "output_type": "stream",
     "text": [
      "policy for theta = [[ 2.805, -2.805], [-1.426,  1.426]]\n",
      " p(a_t = 0 | s_t = 0; theta) =  0.996\n",
      " p(a_t = 1 | s_t = 0; theta) =  0.004\n",
      " p(a_t = 0 | s_t = 1; theta) =  0.055\n",
      " p(a_t = 1 | s_t = 1; theta) =  0.945\n",
      "\n"
     ]
    },
    {
     "data": {
      "image/png": "[encoded data removed]",
      "text/plain": [
       "<Figure size 720x360 with 1 Axes>"
      ]
     },
     "metadata": {
      "needs_background": "light"
     },
     "output_type": "display_data"
    }
   ],
   "source": [
    "max_num_steps_per_ep = 10\n",
    "num_eps_per_iter = 50\n",
    "num_iters = 100\n",
    "alpha = 0.1\n",
    "gamm = 0.99\n",
    "lamb = 0.95 # <--- cannot use \"lambda\" as a variable name in python code!\n",
    "\n",
    "actor = Actor(np.zeros((env.num_states, env.num_actions), dtype=np.float64))\n",
    "optimizer_actor = torch.optim.SGD(actor.parameters(), lr=alpha)\n",
    "\n",
    "critic = Critic(np.zeros(env.num_states, dtype=np.float64))\n",
    "optimizer_critic = torch.optim.SGD(critic.parameters(), lr=alpha)\n",
    "\n",
    "def get_batch(num_eps, num_steps, actor):\n",
    "    with torch.no_grad():\n",
    "        batch = {'s': [], 'a': [], 'r': [], 'w': [], 'V_target': []}\n",
    "        for ep in range(num_eps):\n",
    "            traj = {'s': [], 'a': [], 'r': [], 'V': []}\n",
    "            done = False\n",
    "            s = env.reset()\n",
    "            for step in range(num_steps):\n",
    "                logits = actor(s)\n",
    "                dist = torch.distributions.categorical.Categorical(logits=logits)\n",
    "                a = dist.sample().item()\n",
    "                s_prime, r, done = env.step(a)\n",
    "                traj['s'].append(s)\n",
    "                traj['a'].append(a)\n",
    "                traj['r'].append(r)\n",
    "                traj['V'].append(critic(s).item())\n",
    "                s = s_prime\n",
    "                if done:\n",
    "                    break\n",
    "            \n",
    "            # Get advantages and value targets\n",
    "            # - get length of trajectory\n",
    "            T = len(traj['r'])\n",
    "            # - create copy of r and V, appended with zero (could append with bootstrap)\n",
    "            r = np.append(traj['r'], 0.)\n",
    "            V = np.append(traj['V'], 0.)\n",
    "            # - compute deltas\n",
    "            delta = r[:-1] + (gamm * V[1:]) - V[:-1]\n",
    "            # - compute advantages as reversed, discounted, cumulative sum of deltas\n",
    "            A = delta.copy()\n",
    "            for t in reversed(range(T - 1)):\n",
    "                A[t] = A[t] + (gamm * lamb * A[t + 1])\n",
    "            # - get value targets\n",
    "            for t in reversed(range(T)):\n",
    "                V[t] = r[t] + (gamm * V[t + 1])\n",
    "            V = V[:-1]\n",
    "            \n",
    "            batch['s'].extend(traj['s'])\n",
    "            batch['a'].extend(traj['a'])\n",
    "            batch['r'].extend(traj['r'])\n",
    "            batch['w'].extend(A)\n",
    "            batch['V_target'].extend(V)\n",
    "        batch['num_steps'] = len(batch['r'])\n",
    "        batch['s'] = torch.tensor(batch['s'], requires_grad=False, dtype=torch.long)\n",
    "        batch['a'] = torch.tensor(batch['a'], requires_grad=False, dtype=torch.long)\n",
    "        batch['r'] = torch.tensor(batch['r'], requires_grad=False, dtype=torch.double)\n",
    "        batch['w'] = torch.tensor(batch['w'], requires_grad=False, dtype=torch.double)\n",
    "        batch['V_target'] = torch.tensor(batch['V_target'], requires_grad=False, dtype=torch.double)\n",
    "    return batch\n",
    "\n",
    "step = 0\n",
    "data = {'step': [], 'reward': []}\n",
    "for iter in range(num_iters):\n",
    "    \n",
    "    batch = get_batch(num_eps_per_iter, max_num_steps_per_ep, actor)\n",
    "    \n",
    "    with torch.no_grad():\n",
    "        N = batch['r'].shape[0] / num_eps_per_iter\n",
    "    \n",
    "    # Actor optimization\n",
    "    optimizer_actor.zero_grad()\n",
    "    logits = actor(batch['s'])\n",
    "    dist = torch.distributions.categorical.Categorical(logits=logits)\n",
    "    loss = - (N * dist.log_prob(batch['a']) * batch['w']).mean()\n",
    "    loss.backward()\n",
    "    optimizer_actor.step()\n",
    "    \n",
    "    # Critic optimization\n",
    "    optimizer_critic.zero_grad()\n",
    "    V = critic(batch['s'])\n",
    "    loss = ((V - batch['V_target'])**2).mean() # <--- or... torch.nn.MSELoss()(V, batch['V_target'])\n",
    "    with torch.no_grad():\n",
    "        losses.append(loss.item())\n",
    "    loss.backward()\n",
    "    optimizer_critic.step()\n",
    "    \n",
    "    step += batch['r'].shape[0]\n",
    "    data['step'].append(step)\n",
    "    data['reward'].append(batch['r'].mean() * N)\n",
    "    \n",
    "print(policy_as_string(actor))\n",
    "plot_learning_curve(data)"
   ]
  },
  {
   "cell_type": "markdown",
   "metadata": {},
   "source": [
    "Vanilla policy gradient with actor/critic and advantage estimation *and* importance sampling --- to see the difference in results with importance sampling (in such a simple example), look at the action probabilities and note that after the same number of simulation steps we have stronger convergence to the optimal policy"
   ]
  },
  {
   "cell_type": "code",
   "execution_count": 21,
   "metadata": {},
   "outputs": [
    {
     "name": "stdout",
     "output_type": "stream",
     "text": [
      "policy for theta = [[ 3.755, -3.755], [-2.629,  2.629]]\n",
      " p(a_t = 0 | s_t = 0; theta) =  0.999\n",
      " p(a_t = 1 | s_t = 0; theta) =  0.001\n",
      " p(a_t = 0 | s_t = 1; theta) =  0.005\n",
      " p(a_t = 1 | s_t = 1; theta) =  0.995\n",
      "\n"
     ]
    },
    {
     "data": {
      "image/png": "[encoded data removed]",
      "text/plain": [
       "<Figure size 720x360 with 1 Axes>"
      ]
     },
     "metadata": {
      "needs_background": "light"
     },
     "output_type": "display_data"
    }
   ],
   "source": [
    "max_num_steps_per_ep = 10\n",
    "num_eps_per_iter = 50\n",
    "num_iters = 100\n",
    "alpha = 0.1\n",
    "gamm = 0.99\n",
    "lamb = 0.95 # <--- cannot use \"lambda\" as a variable name in python code!\n",
    "actor_epochs_per_iter = 10\n",
    "critic_epochs_per_iter = 10\n",
    "\n",
    "actor = Actor(np.zeros((env.num_states, env.num_actions), dtype=np.float64))\n",
    "optimizer_actor = torch.optim.SGD(actor.parameters(), lr=alpha)\n",
    "\n",
    "critic = Critic(np.zeros(env.num_states, dtype=np.float64))\n",
    "optimizer_critic = torch.optim.SGD(critic.parameters(), lr=alpha)\n",
    "\n",
    "def get_batch(num_eps, num_steps, actor):\n",
    "    with torch.no_grad():\n",
    "        batch = {'s': [], 'a': [], 'r': [], 'w': [], 'V_target': [], 'log_pi': []}\n",
    "        for ep in range(num_eps):\n",
    "            traj = {'s': [], 'a': [], 'r': [], 'V': [], 'log_pi': []}\n",
    "            done = False\n",
    "            s = env.reset()\n",
    "            for step in range(num_steps):\n",
    "                logits = actor(s)\n",
    "                dist = torch.distributions.categorical.Categorical(logits=logits)\n",
    "                a = dist.sample().item()\n",
    "                s_prime, r, done = env.step(a)\n",
    "                traj['s'].append(s)\n",
    "                traj['a'].append(a)\n",
    "                traj['r'].append(r)\n",
    "                traj['V'].append(critic(s).item())\n",
    "                traj['log_pi'].append(dist.log_prob(torch.tensor(a))) # <--- for categorical distributions,\n",
    "                                                                      #      must give log_prob a tensor\n",
    "                s = s_prime\n",
    "                if done:\n",
    "                    break\n",
    "            \n",
    "            # Get advantages and value targets\n",
    "            # - get length of trajectory\n",
    "            T = len(traj['r'])\n",
    "            # - create copy of r and V, appended with zero (could append with bootstrap)\n",
    "            r = np.append(traj['r'], 0.)\n",
    "            V = np.append(traj['V'], 0.)\n",
    "            # - compute deltas\n",
    "            delta = r[:-1] + (gamm * V[1:]) - V[:-1]\n",
    "            # - compute advantages as reversed, discounted, cumulative sum of deltas\n",
    "            A = delta.copy()\n",
    "            for t in reversed(range(T - 1)):\n",
    "                A[t] = A[t] + (gamm * lamb * A[t + 1])\n",
    "            # - get value targets\n",
    "            for t in reversed(range(T)):\n",
    "                V[t] = r[t] + (gamm * V[t + 1])\n",
    "            V = V[:-1]\n",
    "            \n",
    "            batch['s'].extend(traj['s'])\n",
    "            batch['a'].extend(traj['a'])\n",
    "            batch['r'].extend(traj['r'])\n",
    "            batch['w'].extend(A)\n",
    "            batch['V_target'].extend(V)\n",
    "            batch['log_pi'].extend(traj['log_pi'])\n",
    "        batch['num_steps'] = len(batch['r'])\n",
    "        batch['s'] = torch.tensor(batch['s'], requires_grad=False, dtype=torch.long)\n",
    "        batch['a'] = torch.tensor(batch['a'], requires_grad=False, dtype=torch.long)\n",
    "        batch['r'] = torch.tensor(batch['r'], requires_grad=False, dtype=torch.double)\n",
    "        batch['w'] = torch.tensor(batch['w'], requires_grad=False, dtype=torch.double)\n",
    "        batch['V_target'] = torch.tensor(batch['V_target'], requires_grad=False, dtype=torch.double)\n",
    "        batch['log_pi'] = torch.tensor(batch['log_pi'], requires_grad=False, dtype=torch.double)\n",
    "    return batch\n",
    "\n",
    "step = 0\n",
    "data = {'step': [], 'reward': []}\n",
    "for iter in range(num_iters):\n",
    "    \n",
    "    batch = get_batch(num_eps_per_iter, max_num_steps_per_ep, actor)\n",
    "    \n",
    "    with torch.no_grad():\n",
    "        N = batch['r'].shape[0] / num_eps_per_iter\n",
    "    \n",
    "    # Actor optimization\n",
    "    for epoch in range(actor_epochs_per_iter):\n",
    "        optimizer_actor.zero_grad()\n",
    "        logits = actor(batch['s'])\n",
    "        dist = torch.distributions.categorical.Categorical(logits=logits)\n",
    "        with torch.no_grad():\n",
    "            log_pi = dist.log_prob(batch['a'])\n",
    "            ratio = torch.exp(log_pi - batch['log_pi'])\n",
    "        loss = - (N * dist.log_prob(batch['a']) * batch['w'] * ratio).mean()\n",
    "        loss.backward()\n",
    "        optimizer_actor.step()\n",
    "    \n",
    "    # Critic optimization\n",
    "    for epoch in range(critic_epochs_per_iter):\n",
    "        optimizer_critic.zero_grad()\n",
    "        V = critic(batch['s'])\n",
    "        loss = ((V - batch['V_target'])**2).mean() # <--- or... torch.nn.MSELoss()(V, batch['V_target'])\n",
    "        with torch.no_grad():\n",
    "            losses.append(loss.item())\n",
    "        loss.backward()\n",
    "        optimizer_critic.step()\n",
    "    \n",
    "    step += batch['r'].shape[0]\n",
    "    data['step'].append(step)\n",
    "    data['reward'].append(batch['r'].mean() * N)\n",
    "    \n",
    "print(policy_as_string(actor))\n",
    "plot_learning_curve(data)"
   ]
  }
 ],
 "metadata": {
  "kernelspec": {
   "display_name": "Python (598rl)",
   "language": "python",
   "name": "598rl"
  },
  "language_info": {
   "codemirror_mode": {
    "name": "ipython",
    "version": 3
   },
   "file_extension": ".py",
   "mimetype": "text/x-python",
   "name": "python",
   "nbconvert_exporter": "python",
   "pygments_lexer": "ipython3",
   "version": "3.8.5"
  }
 },
 "nbformat": 4,
 "nbformat_minor": 4
}
